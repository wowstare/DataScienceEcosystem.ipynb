{
 "cells": [
  {
   "cell_type": "markdown",
   "id": "5b872d0f-d447-41e2-b2a5-11c34d9fbcf9",
   "metadata": {},
   "source": [
    "# Data Science Tools and Ecosystem"
   ]
  },
  {
   "cell_type": "markdown",
   "id": "aa3de159-412a-468a-b46e-9fcffa732126",
   "metadata": {},
   "source": [
    "In this notebook, Data Science Tools and Ecosystem are summarized."
   ]
  },
  {
   "cell_type": "markdown",
   "id": "5f7182ee-dc15-4763-86dc-aa7d0ffb9114",
   "metadata": {},
   "source": [
    "Some of the popular languages that Data Scientists use are:\n",
    " python \n",
    " java \n",
    " sql"
   ]
  },
  {
   "cell_type": "markdown",
   "id": "c42a53f2-2b32-4960-9e2b-91251597e2da",
   "metadata": {},
   "source": [
    "Some of the commonly used libraries used by Data Scientists include:\n",
    "numpy\n",
    "pandas\n",
    "seaborn"
   ]
  },
  {
   "cell_type": "markdown",
   "id": "2fe3fb57-5462-4f65-b619-1ae6d92072e3",
   "metadata": {},
   "source": [
    "| Data Science Tools |\n",
    "| -------------------|\n",
    "| Jupter Notebook    |\n",
    "| RStudio            |\n",
    "| Apache Spark       |"
   ]
  },
  {
   "cell_type": "markdown",
   "id": "cf429deb-7435-47c5-9b61-dc504f42a140",
   "metadata": {},
   "source": [
    "### Below are a few examples of evaluating arithmetic expressions in Python."
   ]
  },
  {
   "cell_type": "code",
   "execution_count": 2,
   "id": "085b0ae1-f3c9-4186-88a4-101542242d4b",
   "metadata": {},
   "outputs": [
    {
     "data": {
      "text/plain": [
       "17"
      ]
     },
     "execution_count": 2,
     "metadata": {},
     "output_type": "execute_result"
    }
   ],
   "source": [
    "(3*4)+5  # This a simple arithmetic expression to mutiply then add integers."
   ]
  },
  {
   "cell_type": "code",
   "execution_count": 4,
   "id": "f42cf95a-7ab2-48a6-bd24-30ce07d0a6d1",
   "metadata": {},
   "outputs": [
    {
     "data": {
      "text/plain": [
       "3.3333333333333335"
      ]
     },
     "execution_count": 4,
     "metadata": {},
     "output_type": "execute_result"
    }
   ],
   "source": [
    "\n",
    "# This will convert 200 minutes to hours by diving by 60\n",
    "200 / 60"
   ]
  },
  {
   "cell_type": "markdown",
   "id": "d427b2bc-20e2-4bac-9ec0-ce6fff15b4bc",
   "metadata": {},
   "source": [
    "**Objectives**\n",
    "- python\n",
    "- R\n",
    "- SQL "
   ]
  },
  {
   "cell_type": "markdown",
   "id": "0c536316-9a7a-41e6-882e-37cf78324054",
   "metadata": {},
   "source": [
    "##Author Narges"
   ]
  },
  {
   "cell_type": "code",
   "execution_count": null,
   "id": "b52d2133-77da-48d8-97d3-cdd4c87c1e26",
   "metadata": {},
   "outputs": [],
   "source": []
  }
 ],
 "metadata": {
  "kernelspec": {
   "display_name": "Python 3 (ipykernel)",
   "language": "python",
   "name": "python3"
  },
  "language_info": {
   "codemirror_mode": {
    "name": "ipython",
    "version": 3
   },
   "file_extension": ".py",
   "mimetype": "text/x-python",
   "name": "python",
   "nbconvert_exporter": "python",
   "pygments_lexer": "ipython3",
   "version": "3.12.7"
  }
 },
 "nbformat": 4,
 "nbformat_minor": 5
}
